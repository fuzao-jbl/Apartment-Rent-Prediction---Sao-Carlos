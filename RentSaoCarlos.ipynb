{
 "cells": [
  {
   "cell_type": "code",
   "execution_count": 1,
   "id": "e0b36f63",
   "metadata": {},
   "outputs": [],
   "source": [
    "import pandas as pd\n",
    "import requests\n",
    "from bs4 import BeautifulSoup"
   ]
  },
  {
   "cell_type": "code",
   "execution_count": 2,
   "id": "9a5e525c",
   "metadata": {},
   "outputs": [],
   "source": [
    "# Downloading the page where I will get the data\n",
    "def url_vivareal(page):\n",
    "    \"\"\" This function returns a BeautifulSoup object from the vivareal website with the right page query \"\"\"\n",
    "    url_vivareal = 'https://www.vivareal.com.br/aluguel/sp/sao-carlos/apartamento_residencial/?pagina=' + str(page)\n",
    "    r_vivareal = requests.get(url_vivareal)\n",
    "    return BeautifulSoup(r_vivareal.text, 'html.parser')"
   ]
  },
  {
   "cell_type": "code",
   "execution_count": 3,
   "id": "96ec1f94",
   "metadata": {},
   "outputs": [],
   "source": [
    "# Create the dict that holds the data that will be a dataframe\n",
    "data = {\n",
    "    'neighbourhood': [],\n",
    "    'area': [],\n",
    "    'rooms': [],\n",
    "    'bathrooms': [],\n",
    "    'rent': [],\n",
    "}"
   ]
  },
  {
   "cell_type": "code",
   "execution_count": 4,
   "id": "9e0dc90b",
   "metadata": {},
   "outputs": [],
   "source": [
    "# When webscraping, integer values will be in the form of a string, this function transforms the price into an integer\n",
    "\n",
    "def make_int(price, numbers=['1', '2', '3', '4', '5', '6', '7', '8', '9', '0']):\n",
    "    \"\"\" Receives the string of the price and returns an integers \"\"\"\n",
    "    \n",
    "    for letter in price:\n",
    "        if letter not in numbers:\n",
    "            price = price.replace(letter, '')\n",
    "    \n",
    "    return int(price)"
   ]
  },
  {
   "cell_type": "code",
   "execution_count": 5,
   "id": "434fa7cf",
   "metadata": {},
   "outputs": [],
   "source": [
    "# When webscraping, it will retrieve the full address, this function will retrieve only the neighbourhood\n",
    "\n",
    "def find_neighbourhood(address):\n",
    "    \"\"\" Given an address, return the neighbourhood \"\"\"\n",
    "    \n",
    "    if 'rua' in address[:5].lower() or 'avenida' in address[:8].lower():\n",
    "        for i in range(len(address)):\n",
    "            if address[i] == '-':\n",
    "                for j in range(i, len(address)):\n",
    "                    if address[j] == ',':\n",
    "                        aux_address = address[i+2:j]\n",
    "    else:\n",
    "        for i in range(len(address)):\n",
    "            if address[i] == ',':\n",
    "                aux_address = address[:i]\n",
    "    \n",
    "    if aux_address[0] == ' ':\n",
    "        aux_address = aux_address[1:]\n",
    "    if '-' in aux_address:\n",
    "        for i in range(len(aux_address)):\n",
    "            aux_address = aux_address[:i]\n",
    "    return aux_address"
   ]
  },
  {
   "cell_type": "code",
   "execution_count": null,
   "id": "1bb56188",
   "metadata": {},
   "outputs": [],
   "source": [
    "# Web scraping\n",
    "\n",
    "for page in range(1, 73):\n",
    "    vivareal_soup = url_vivareal(page)\n",
    "    appartments = vivareal_soup.find_all('div', class_='js-card-selector')\n",
    "    for appartment in appartments:\n",
    "        address = appartment.find('span', class_='property-card__address-container').text[:-11]\n",
    "        neighbourhood = find_neighbourhood(address)\n",
    "        property_card_value = appartment.find_all('span', class_='js-property-card-value')\n",
    "        area = int(property_card_value[0].text)\n",
    "        rooms = int(property_card_value[1].text)\n",
    "        bathrooms = int(property_card_value[2].text)\n",
    "        rent = make_int(appartment.find('p').text)\n",
    "        data['neighbourhood'].append(neighbourhood)\n",
    "        data['area'].append(area)\n",
    "        data['rooms'].append(rooms)\n",
    "        data['bathrooms'].append(bathrooms)\n",
    "        data['rent'].append(rent)\n",
    "\n",
    "# Creating and saving the dataframe\n",
    "df = pd.DataFrame(data)\n",
    "df.to_csv('rent_sao_carlos.csv')\n",
    "df"
   ]
  }
 ],
 "metadata": {
  "kernelspec": {
   "display_name": "Python 3 (ipykernel)",
   "language": "python",
   "name": "python3"
  },
  "language_info": {
   "codemirror_mode": {
    "name": "ipython",
    "version": 3
   },
   "file_extension": ".py",
   "mimetype": "text/x-python",
   "name": "python",
   "nbconvert_exporter": "python",
   "pygments_lexer": "ipython3",
   "version": "3.10.5"
  }
 },
 "nbformat": 4,
 "nbformat_minor": 5
}
